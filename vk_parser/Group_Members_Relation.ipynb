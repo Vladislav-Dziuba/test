{
 "cells": [
  {
   "cell_type": "code",
   "execution_count": 9,
   "id": "5a223a13",
   "metadata": {},
   "outputs": [],
   "source": [
    "import requests\n",
    "\n",
    "def group_parser(group,amount):\n",
    "    \n",
    "    token = \"4f7546a64f7546a64f7546a6824c65cbd444f754f7546a62c6762627f9f487c7f5791ec\"\n",
    "    version = 5.131\n",
    "    group = group ### id группы в ВК\n",
    "    members_list=[]\n",
    "    ofset = 0 ### порядковый номер начального подписчика новой тысячи(count)\n",
    "    count = 1000 ### количество подписчиков группы, которое можем вытащит за раз\n",
    "    \n",
    "    for i in range(amount+1): ### amount - количество тысяч подписчиков у группы, делаем +1, чтобы захватить остатки до сл. тысячи\n",
    "        res = requests.get('https://api.vk.com/method/groups.getMembers', \n",
    "                           params = {'access_token':token, 'v':version,'group_id':group,\n",
    "                                    'offset': ofset,\n",
    "                                    'count':count})\n",
    "        \n",
    "        data = res.json()['response']['items']\n",
    "        members_list.append(data)\n",
    "        ofset+=1000 ### на каждом шаге наращиваем начальный порядковый номер первого подписчика новой тысячи, чтобы двигаться далее\n",
    "        \n",
    "    return sum(members_list,[])  "
   ]
  },
  {
   "cell_type": "code",
   "execution_count": 10,
   "id": "5923ba01",
   "metadata": {},
   "outputs": [
    {
     "data": {
      "text/plain": [
       "96501"
      ]
     },
     "execution_count": 10,
     "metadata": {},
     "output_type": "execute_result"
    }
   ],
   "source": [
    "tomskie = group_parser(group=\"tomskie\",amount=158)  ### группа Томские.ру, 157027 подписчиков\n",
    "region = group_parser(group=\"tomsk123\",amount=310) ### Регион70, 304038 подписчиков\n",
    "len(set(region).intersection(set(tomskie)))"
   ]
  },
  {
   "cell_type": "code",
   "execution_count": null,
   "id": "792a9ac3",
   "metadata": {},
   "outputs": [],
   "source": []
  }
 ],
 "metadata": {
  "kernelspec": {
   "display_name": "Python 3 (ipykernel)",
   "language": "python",
   "name": "python3"
  },
  "language_info": {
   "codemirror_mode": {
    "name": "ipython",
    "version": 3
   },
   "file_extension": ".py",
   "mimetype": "text/x-python",
   "name": "python",
   "nbconvert_exporter": "python",
   "pygments_lexer": "ipython3",
   "version": "3.9.7"
  }
 },
 "nbformat": 4,
 "nbformat_minor": 5
}
